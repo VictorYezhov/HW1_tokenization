{
 "cells": [
  {
   "cell_type": "code",
   "execution_count": 1,
   "metadata": {},
   "outputs": [],
   "source": [
    "import re"
   ]
  },
  {
   "cell_type": "code",
   "execution_count": 5,
   "metadata": {},
   "outputs": [
    {
     "name": "stdout",
     "output_type": "stream",
     "text": [
      "total emails: 3418\n"
     ]
    }
   ],
   "source": [
    "f=open(\"google.csv\", \"r\")\n",
    "lines = f.readlines()\n",
    "\n",
    "totalEmails = 0\n",
    "for line in lines:\n",
    "    match = re.findall(r'[\\w\\.-]+@[\\w\\.-]+', line)\n",
    "\n",
    "    totalEmails = totalEmails + len(match)\n",
    "\n",
    "print(\"total emails: \"+ str(totalEmails))"
   ]
  },
  {
   "cell_type": "code",
   "execution_count": 8,
   "metadata": {},
   "outputs": [
    {
     "name": "stdout",
     "output_type": "stream",
     "text": [
      "This is text for punct.\n",
      "-----\n",
      "This is sentence.\n",
      "-----\n",
      "Mr. Punct is inteligent enought to detect sentecnes.\n",
      "-----\n",
      "What a coll boy.\n",
      "-----\n",
      "I lve BMW\n"
     ]
    }
   ],
   "source": [
    "import nltk.data\n",
    "text = \"This is text for punct. This is sentence. Mr. Punct is inteligent enought to detect sentecnes. What a coll boy. I lve BMW\"\n",
    "sent_detector = nltk.data.load('tokenizers/punkt/english.pickle')\n",
    "print('\\n-----\\n'.join(sent_detector.tokenize(text.strip())))"
   ]
  },
  {
   "cell_type": "code",
   "execution_count": null,
   "metadata": {},
   "outputs": [],
   "source": []
  },
  {
   "cell_type": "code",
   "execution_count": null,
   "metadata": {},
   "outputs": [],
   "source": []
  },
  {
   "cell_type": "code",
   "execution_count": null,
   "metadata": {},
   "outputs": [],
   "source": []
  }
 ],
 "metadata": {
  "kernelspec": {
   "display_name": "Python 3",
   "language": "python",
   "name": "python3"
  },
  "language_info": {
   "codemirror_mode": {
    "name": "ipython",
    "version": 3
   },
   "file_extension": ".py",
   "mimetype": "text/x-python",
   "name": "python",
   "nbconvert_exporter": "python",
   "pygments_lexer": "ipython3",
   "version": "3.6.5"
  }
 },
 "nbformat": 4,
 "nbformat_minor": 2
}
